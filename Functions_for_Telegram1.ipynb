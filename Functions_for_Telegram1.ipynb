{
  "nbformat": 4,
  "nbformat_minor": 0,
  "metadata": {
    "colab": {
      "provenance": [],
      "collapsed_sections": [
        "ZpD_KGlmtUbR",
        "cMsM3JRmtYpr",
        "QjvV-a2w7zTn",
        "blq5ynkT8CEy",
        "ij_isOlPDsUo",
        "wC0JBYwNQXxZ",
        "vtb9IyLIMD2r",
        "wYANiHr1RRiq"
      ],
      "mount_file_id": "1HR-IXagV6i0qXVRxA5XVVWAdyQcCO3JW",
      "authorship_tag": "ABX9TyNEvxdk49tERhoGv+9dgDrP",
      "include_colab_link": true
    },
    "kernelspec": {
      "name": "python3",
      "display_name": "Python 3"
    },
    "language_info": {
      "name": "python"
    }
  },
  "cells": [
    {
      "cell_type": "markdown",
      "metadata": {
        "id": "view-in-github",
        "colab_type": "text"
      },
      "source": [
        "<a href=\"https://colab.research.google.com/github/dudegladiator/Telegram-Bot/blob/main/Functions_for_Telegram1.ipynb\" target=\"_parent\"><img src=\"https://colab.research.google.com/assets/colab-badge.svg\" alt=\"Open In Colab\"/></a>"
      ]
    },
    {
      "cell_type": "markdown",
      "source": [
        "#Install All packages"
      ],
      "metadata": {
        "id": "ZpD_KGlmtUbR"
      }
    },
    {
      "cell_type": "code",
      "source": [
        "pip install --upgrade Pillow\n"
      ],
      "metadata": {
        "id": "khrLyaqtFYZY"
      },
      "execution_count": null,
      "outputs": []
    },
    {
      "cell_type": "code",
      "source": [
        "pip install rembg"
      ],
      "metadata": {
        "id": "vdfbzN4htYBt"
      },
      "execution_count": null,
      "outputs": []
    },
    {
      "cell_type": "code",
      "source": [
        "pip install opencv-python"
      ],
      "metadata": {
        "id": "QdLeH8FktX7z"
      },
      "execution_count": null,
      "outputs": []
    },
    {
      "cell_type": "code",
      "source": [],
      "metadata": {
        "id": "s4zXhP7GtX4Z"
      },
      "execution_count": null,
      "outputs": []
    },
    {
      "cell_type": "code",
      "source": [],
      "metadata": {
        "id": "InNYXxDUtXv9"
      },
      "execution_count": null,
      "outputs": []
    },
    {
      "cell_type": "markdown",
      "source": [
        "# Import all packages"
      ],
      "metadata": {
        "id": "cMsM3JRmtYpr"
      }
    },
    {
      "cell_type": "code",
      "source": [
        "from PIL import Image\n",
        "import telebot"
      ],
      "metadata": {
        "id": "xzPjidCotewf"
      },
      "execution_count": 1,
      "outputs": []
    },
    {
      "cell_type": "code",
      "source": [
        "import numpy as np"
      ],
      "metadata": {
        "id": "hzJooYoetekw"
      },
      "execution_count": 2,
      "outputs": []
    },
    {
      "cell_type": "code",
      "source": [
        "from rembg import remove"
      ],
      "metadata": {
        "id": "G5iGe0goIS36"
      },
      "execution_count": 21,
      "outputs": []
    },
    {
      "cell_type": "code",
      "source": [
        "import cv2 as cv"
      ],
      "metadata": {
        "id": "xi-tm8GjPNuW"
      },
      "execution_count": 26,
      "outputs": []
    },
    {
      "cell_type": "markdown",
      "source": [
        "All Functions\n"
      ],
      "metadata": {
        "id": "pKf3_y9GtgT0"
      }
    },
    {
      "cell_type": "markdown",
      "source": [
        "# To compress the image \n"
      ],
      "metadata": {
        "id": "QjvV-a2w7zTn"
      }
    },
    {
      "cell_type": "code",
      "source": [
        "#quality must be in between 1 to 100 with integer\n",
        "#imagepath can be relative\n",
        "#for compressing image it must be jpg\n",
        "# id must be string format of integer\n",
        "def compress_img(imagepath,id,format,quality):\n",
        "  img=Image.open(imagepath)\n",
        "  try:\n",
        "    img.save(\"CompressImage\"+id+\".\"+format,quality=quality,optimised=True)\n",
        "  except OSError:\n",
        "    img=img.convert(\"RGB\")\n",
        "    img.save(\"CompressImage\"+id+\".\"+format,quality=quality,optimised=True)\n",
        "\n",
        "  return \"CompressImage\"+id+\".\"+format  \n",
        "compress_img(\"/content/Originalfile.png\",\"10\",\"jpg\",10)"
      ],
      "metadata": {
        "id": "jVkN-vN-tk61"
      },
      "execution_count": null,
      "outputs": []
    },
    {
      "cell_type": "markdown",
      "source": [
        "# Resizing Image"
      ],
      "metadata": {
        "id": "blq5ynkT8CEy"
      }
    },
    {
      "cell_type": "code",
      "source": [
        "#imagepath can be relative\n",
        "#format it must be jpg\n",
        "#width and heigth must be integer\n",
        "# id must be string format of integer\n",
        "def resize_img(imagepath,width,heigth,id,format):\n",
        "  with Image.open(imagepath) as im:\n",
        "    img=im.resize((width,heigth))\n",
        "    try:\n",
        "      img.save(\"ResizeImage\"+id+\".\"+format)\n",
        "    except OSError:\n",
        "      img=img.convert(\"RGB\")\n",
        "      img.save(\"ResizeImage\"+id+\".\"+format) \n",
        "  return \"ResizeImage\"+id+\".\"+format    \n",
        "resize_img(\"/content/Original.png\",128,128,\"101\",\"jpg\")\n"
      ],
      "metadata": {
        "id": "6nz0-RuLFYfu",
        "colab": {
          "base_uri": "https://localhost:8080/",
          "height": 36
        },
        "outputId": "be56e879-fcd1-4036-ff98-3c4ec15fc32f"
      },
      "execution_count": 19,
      "outputs": [
        {
          "output_type": "execute_result",
          "data": {
            "text/plain": [
              "'ResizeImage101.jpg'"
            ],
            "application/vnd.google.colaboratory.intrinsic+json": {
              "type": "string"
            }
          },
          "metadata": {},
          "execution_count": 19
        }
      ]
    },
    {
      "cell_type": "markdown",
      "source": [
        "# Remove Background"
      ],
      "metadata": {
        "id": "ij_isOlPDsUo"
      }
    },
    {
      "cell_type": "code",
      "source": [
        "def RemoveBg(imagepath,id,format):\n",
        "  img=Image.open(imagepath)\n",
        "  output=remove(img)\n",
        "  try:\n",
        "      output.save(\"RemoveBg\"+id+\".\"+format)\n",
        "  except OSError:\n",
        "    output=output.convert(\"RGB\")\n",
        "    output.save(\"RemoveBg\"+id+\".\"+format)\n",
        "  return \"RemoveBg\"+id+\".\"+format\n",
        "RemoveBg(\"/content/zebra.jpg\",\"11\",\"jpg\")\n"
      ],
      "metadata": {
        "id": "vU98MdWKFYiV",
        "colab": {
          "base_uri": "https://localhost:8080/",
          "height": 36
        },
        "outputId": "c7a8ad2f-d2f5-4b60-e0b6-ae0f11ca606a"
      },
      "execution_count": 25,
      "outputs": [
        {
          "output_type": "execute_result",
          "data": {
            "text/plain": [
              "'RemoveBg11.jpg'"
            ],
            "application/vnd.google.colaboratory.intrinsic+json": {
              "type": "string"
            }
          },
          "metadata": {},
          "execution_count": 25
        }
      ]
    },
    {
      "cell_type": "markdown",
      "source": [
        "# Border"
      ],
      "metadata": {
        "id": "wC0JBYwNQXxZ"
      }
    },
    {
      "cell_type": "code",
      "source": [
        "#cv \n",
        "img = cv.imread('/content/zebra.jpg')\n",
        "color = [101, 52, 152] # 'cause purple!\n",
        "# border widths; I set them all to 150\n",
        "top, bottom, left, right = [150]*4\n",
        "img_with_border = cv.copyMakeBorder(img, top, bottom, left, right, cv2.BORDER_CONSTANT, value=color)\n",
        "cv.imwrite(\"starry_night.jpg\", img_with_border)"
      ],
      "metadata": {
        "colab": {
          "base_uri": "https://localhost:8080/"
        },
        "id": "ad7MSd4XDqSp",
        "outputId": "3add32c0-5a0b-494b-e159-9e5a4e8638ea"
      },
      "execution_count": 30,
      "outputs": [
        {
          "output_type": "execute_result",
          "data": {
            "text/plain": [
              "True"
            ]
          },
          "metadata": {},
          "execution_count": 30
        }
      ]
    },
    {
      "cell_type": "markdown",
      "source": [
        "#New section"
      ],
      "metadata": {
        "id": "vtb9IyLIMD2r"
      }
    },
    {
      "cell_type": "code",
      "source": [],
      "metadata": {
        "id": "6sLtVHBJMDqN"
      },
      "execution_count": null,
      "outputs": []
    },
    {
      "cell_type": "markdown",
      "source": [],
      "metadata": {
        "id": "IUhnsDV0UVM6"
      }
    },
    {
      "cell_type": "markdown",
      "source": [],
      "metadata": {
        "id": "QKdRY-6QUVuy"
      }
    },
    {
      "cell_type": "code",
      "source": [],
      "metadata": {
        "id": "8c_lkde8UU-G"
      },
      "execution_count": null,
      "outputs": []
    },
    {
      "cell_type": "code",
      "source": [],
      "metadata": {
        "id": "JFmA_kH-UU7i"
      },
      "execution_count": null,
      "outputs": []
    },
    {
      "cell_type": "code",
      "source": [],
      "metadata": {
        "id": "6HGRxRu4UU4W"
      },
      "execution_count": null,
      "outputs": []
    },
    {
      "cell_type": "code",
      "source": [],
      "metadata": {
        "id": "t83ZQOdJUU1S"
      },
      "execution_count": null,
      "outputs": []
    },
    {
      "cell_type": "markdown",
      "source": [
        "#Telegram Bot"
      ],
      "metadata": {
        "id": "wYANiHr1RRiq"
      }
    },
    {
      "cell_type": "code",
      "source": [],
      "metadata": {
        "id": "3Uo1kNk_DqQK"
      },
      "execution_count": null,
      "outputs": []
    },
    {
      "cell_type": "code",
      "source": [],
      "metadata": {
        "id": "tk8rcrbHDqNG"
      },
      "execution_count": null,
      "outputs": []
    },
    {
      "cell_type": "markdown",
      "source": [
        "#New Section"
      ],
      "metadata": {
        "id": "L2w-kIxRUQV9"
      }
    },
    {
      "cell_type": "markdown",
      "source": [
        "Main"
      ],
      "metadata": {
        "id": "fv3Igfn5tsKY"
      }
    },
    {
      "cell_type": "code",
      "source": [
        "dict={}\n",
        "dict[\"harsh\"]={}\n",
        "dict[\"harsh\"][\"gupt\"]=\"gupta\"\n",
        "print(dict)"
      ],
      "metadata": {
        "id": "oPHV4KaMtr3E",
        "colab": {
          "base_uri": "https://localhost:8080/"
        },
        "outputId": "57aedbf5-8ca2-4f9d-cd79-005e2d73b46e"
      },
      "execution_count": 33,
      "outputs": [
        {
          "output_type": "stream",
          "name": "stdout",
          "text": [
            "{'harsh': {'gupt': 'gupta'}}\n"
          ]
        }
      ]
    },
    {
      "cell_type": "code",
      "source": [
        "user_data = {}\n",
        "\n",
        "@bot.message_handler(commands=['start'])\n",
        "def start_message(message):\n",
        "    user_id = message.chat.id\n",
        "    user_data[user_id] = {}\n",
        "    user_data[user_id]['name'] = ''\n",
        "    user_data[user_id]['age'] = ''\n",
        "    bot.reply_to(message, 'What is your name?')\n",
        "\n",
        "@bot.message_handler(func=lambda message: True)\n",
        "def handle_message(message):\n",
        "    user_id = message.chat.id\n",
        "    if user_id in user_data and 'name' not in user_data[user_id]:\n",
        "        user_data[user_id]['name'] = message.text\n",
        "        bot.reply_to(message, 'How old are you?')\n",
        "    elif user_id in user_data and 'age' not in user_data[user_id]:\n",
        "        user_data[user_id]['age'] = message.text\n",
        "        bot.reply_to(message, f'Thank you {user_data[user_id][\"name\"]}! I now know that you are {user_data[user_id][\"age\"]} years old.')\n"
      ],
      "metadata": {
        "id": "OINxPRYbFYlU"
      },
      "execution_count": null,
      "outputs": []
    },
    {
      "cell_type": "code",
      "source": [],
      "metadata": {
        "id": "BvlD7sg8FYnu"
      },
      "execution_count": null,
      "outputs": []
    },
    {
      "cell_type": "code",
      "source": [],
      "metadata": {
        "id": "BWbEaCSDFYqR"
      },
      "execution_count": null,
      "outputs": []
    },
    {
      "cell_type": "code",
      "source": [],
      "metadata": {
        "id": "2CZCwDeEFYtD"
      },
      "execution_count": null,
      "outputs": []
    },
    {
      "cell_type": "code",
      "source": [],
      "metadata": {
        "id": "qAX6Y8f_xouf"
      },
      "execution_count": null,
      "outputs": []
    },
    {
      "cell_type": "code",
      "source": [],
      "metadata": {
        "id": "ylTTlwTZDpuM"
      },
      "execution_count": null,
      "outputs": []
    }
  ]
}