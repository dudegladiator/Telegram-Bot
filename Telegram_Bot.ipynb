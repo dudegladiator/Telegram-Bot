{
  "nbformat": 4,
  "nbformat_minor": 0,
  "metadata": {
    "colab": {
      "provenance": [],
      "mount_file_id": "1HR-IXagV6i0qXVRxA5XVVWAdyQcCO3JW",
      "authorship_tag": "ABX9TyOXwBPVa7ROX/Mv1qe6pFtG",
      "include_colab_link": true
    },
    "kernelspec": {
      "name": "python3",
      "display_name": "Python 3"
    },
    "language_info": {
      "name": "python"
    }
  },
  "cells": [
    {
      "cell_type": "markdown",
      "metadata": {
        "id": "view-in-github",
        "colab_type": "text"
      },
      "source": [
        "<a href=\"https://colab.research.google.com/github/dudegladiator/Telegram-Bot/blob/main/Telegram_Bot.ipynb\" target=\"_parent\"><img src=\"https://colab.research.google.com/assets/colab-badge.svg\" alt=\"Open In Colab\"/></a>"
      ]
    },
    {
      "cell_type": "markdown",
      "source": [
        "Install All packages"
      ],
      "metadata": {
        "id": "ZpD_KGlmtUbR"
      }
    },
    {
      "cell_type": "code",
      "source": [
        "pip install --upgrade Pillow\n"
      ],
      "metadata": {
        "id": "khrLyaqtFYZY"
      },
      "execution_count": null,
      "outputs": []
    },
    {
      "cell_type": "code",
      "source": [
        "pip install --upgrade pyTelegramBotAPI"
      ],
      "metadata": {
        "id": "dgYNvW3QtYEq"
      },
      "execution_count": null,
      "outputs": []
    },
    {
      "cell_type": "code",
      "source": [
        "pip install rembg"
      ],
      "metadata": {
        "id": "vdfbzN4htYBt"
      },
      "execution_count": null,
      "outputs": []
    },
    {
      "cell_type": "code",
      "source": [],
      "metadata": {
        "id": "QdLeH8FktX7z"
      },
      "execution_count": null,
      "outputs": []
    },
    {
      "cell_type": "code",
      "source": [],
      "metadata": {
        "id": "s4zXhP7GtX4Z"
      },
      "execution_count": null,
      "outputs": []
    },
    {
      "cell_type": "code",
      "source": [],
      "metadata": {
        "id": "InNYXxDUtXv9"
      },
      "execution_count": null,
      "outputs": []
    },
    {
      "cell_type": "markdown",
      "source": [
        "Import all packages"
      ],
      "metadata": {
        "id": "cMsM3JRmtYpr"
      }
    },
    {
      "cell_type": "code",
      "source": [
        "from PIL import Image\n",
        "import telebot"
      ],
      "metadata": {
        "id": "xzPjidCotewf"
      },
      "execution_count": 1,
      "outputs": []
    },
    {
      "cell_type": "code",
      "source": [
        "import numpy as np"
      ],
      "metadata": {
        "id": "hzJooYoetekw"
      },
      "execution_count": 2,
      "outputs": []
    },
    {
      "cell_type": "code",
      "source": [
        "from rembg import remove"
      ],
      "metadata": {
        "id": "G5iGe0goIS36"
      },
      "execution_count": 21,
      "outputs": []
    },
    {
      "cell_type": "markdown",
      "source": [
        "All Functions\n"
      ],
      "metadata": {
        "id": "pKf3_y9GtgT0"
      }
    },
    {
      "cell_type": "markdown",
      "source": [
        "# To compress the image \n"
      ],
      "metadata": {
        "id": "QjvV-a2w7zTn"
      }
    },
    {
      "cell_type": "code",
      "source": [
        "#quality must be in between 1 to 100 with integer\n",
        "#imagepath can be relative\n",
        "#for compressing image it must be jpg\n",
        "# id must be string format of integer\n",
        "def compress_img(imagepath,id,format,quality):\n",
        "  img=Image.open(imagepath)\n",
        "  try:\n",
        "    img.save(\"CompressImage\"+id+\".\"+format,quality=quality,optimised=True)\n",
        "  except OSError:\n",
        "    img=img.convert(\"RGB\")\n",
        "    img.save(\"CompressImage\"+id+\".\"+format,quality=quality,optimised=True)\n",
        "\n",
        "  return \"CompressImage\"+id+\".\"+format  \n",
        "compress_img(\"/content/Originalfile.png\",\"10\",\"jpg\",10)"
      ],
      "metadata": {
        "id": "jVkN-vN-tk61"
      },
      "execution_count": null,
      "outputs": []
    },
    {
      "cell_type": "markdown",
      "source": [
        "# Resizing Image"
      ],
      "metadata": {
        "id": "blq5ynkT8CEy"
      }
    },
    {
      "cell_type": "code",
      "source": [
        "#imagepath can be relative\n",
        "#format it must be jpg\n",
        "#width and heigth must be integer\n",
        "# id must be string format of integer\n",
        "def resize_img(imagepath,width,heigth,id,format):\n",
        "  with Image.open(imagepath) as im:\n",
        "    img=im.resize((width,heigth))\n",
        "    try:\n",
        "      img.save(\"ResizeImage\"+id+\".\"+format)\n",
        "    except OSError:\n",
        "      img=img.convert(\"RGB\")\n",
        "      img.save(\"ResizeImage\"+id+\".\"+format) \n",
        "  return \"ResizeImage\"+id+\".\"+format    \n",
        "resize_img(\"/content/Original.png\",128,128,\"101\",\"jpg\")\n"
      ],
      "metadata": {
        "id": "6nz0-RuLFYfu",
        "colab": {
          "base_uri": "https://localhost:8080/",
          "height": 36
        },
        "outputId": "be56e879-fcd1-4036-ff98-3c4ec15fc32f"
      },
      "execution_count": 19,
      "outputs": [
        {
          "output_type": "execute_result",
          "data": {
            "text/plain": [
              "'ResizeImage101.jpg'"
            ],
            "application/vnd.google.colaboratory.intrinsic+json": {
              "type": "string"
            }
          },
          "metadata": {},
          "execution_count": 19
        }
      ]
    },
    {
      "cell_type": "markdown",
      "source": [
        "# Remove Background"
      ],
      "metadata": {
        "id": "ij_isOlPDsUo"
      }
    },
    {
      "cell_type": "code",
      "source": [
        "\n",
        "\n"
      ],
      "metadata": {
        "id": "vU98MdWKFYiV"
      },
      "execution_count": 17,
      "outputs": []
    },
    {
      "cell_type": "markdown",
      "source": [
        "#New section"
      ],
      "metadata": {
        "id": "_SFf-PLNH964"
      }
    },
    {
      "cell_type": "code",
      "source": [],
      "metadata": {
        "id": "ad7MSd4XDqSp"
      },
      "execution_count": null,
      "outputs": []
    },
    {
      "cell_type": "code",
      "source": [],
      "metadata": {
        "id": "3Uo1kNk_DqQK"
      },
      "execution_count": null,
      "outputs": []
    },
    {
      "cell_type": "code",
      "source": [],
      "metadata": {
        "id": "tk8rcrbHDqNG"
      },
      "execution_count": null,
      "outputs": []
    },
    {
      "cell_type": "markdown",
      "source": [
        "Main"
      ],
      "metadata": {
        "id": "fv3Igfn5tsKY"
      }
    },
    {
      "cell_type": "code",
      "source": [],
      "metadata": {
        "id": "oPHV4KaMtr3E"
      },
      "execution_count": null,
      "outputs": []
    },
    {
      "cell_type": "code",
      "source": [],
      "metadata": {
        "id": "OINxPRYbFYlU"
      },
      "execution_count": null,
      "outputs": []
    },
    {
      "cell_type": "code",
      "source": [],
      "metadata": {
        "id": "BvlD7sg8FYnu"
      },
      "execution_count": null,
      "outputs": []
    },
    {
      "cell_type": "code",
      "source": [],
      "metadata": {
        "id": "BWbEaCSDFYqR"
      },
      "execution_count": null,
      "outputs": []
    },
    {
      "cell_type": "code",
      "source": [],
      "metadata": {
        "id": "2CZCwDeEFYtD"
      },
      "execution_count": null,
      "outputs": []
    },
    {
      "cell_type": "code",
      "source": [],
      "metadata": {
        "id": "qAX6Y8f_xouf"
      },
      "execution_count": null,
      "outputs": []
    },
    {
      "cell_type": "code",
      "source": [],
      "metadata": {
        "id": "ylTTlwTZDpuM"
      },
      "execution_count": null,
      "outputs": []
    }
  ]
}