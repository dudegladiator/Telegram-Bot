{
  "cells": [
    {
      "cell_type": "markdown",
      "metadata": {
        "id": "view-in-github",
        "colab_type": "text"
      },
      "source": [
        "<a href=\"https://colab.research.google.com/github/dudegladiator/Telegram-Bot/blob/main/Functions_for_Telegram4.ipynb\" target=\"_parent\"><img src=\"https://colab.research.google.com/assets/colab-badge.svg\" alt=\"Open In Colab\"/></a>"
      ]
    },
    {
      "cell_type": "markdown",
      "metadata": {
        "id": "ZpD_KGlmtUbR"
      },
      "source": [
        "#Install All packages"
      ]
    },
    {
      "cell_type": "code",
      "execution_count": null,
      "metadata": {
        "id": "khrLyaqtFYZY"
      },
      "outputs": [],
      "source": [
        "pip install --ignore-installed Pillow==9.3.0\n"
      ]
    },
    {
      "cell_type": "code",
      "execution_count": null,
      "metadata": {
        "id": "vdfbzN4htYBt"
      },
      "outputs": [],
      "source": [
        "pip install rembg==2.0.30"
      ]
    },
    {
      "cell_type": "code",
      "execution_count": null,
      "metadata": {
        "id": "QdLeH8FktX7z"
      },
      "outputs": [],
      "source": [
        "pip install opencv-python"
      ]
    },
    {
      "cell_type": "code",
      "execution_count": null,
      "metadata": {
        "id": "s4zXhP7GtX4Z"
      },
      "outputs": [],
      "source": [
        "pip install pytesseract"
      ]
    },
    {
      "cell_type": "code",
      "execution_count": 6,
      "metadata": {
        "id": "_3dG-T2lNCI4"
      },
      "outputs": [],
      "source": [
        "import subprocess"
      ]
    },
    {
      "cell_type": "code",
      "execution_count": null,
      "metadata": {
        "id": "BPteLQbiMtxi"
      },
      "outputs": [],
      "source": [
        "subprocess.run(['sudo', 'apt', 'install', 'tesseract-ocr'])"
      ]
    },
    {
      "cell_type": "code",
      "execution_count": null,
      "metadata": {
        "id": "j-WV2WQaIIrp"
      },
      "outputs": [],
      "source": [
        "pip install -U git+https://github.com/madmaze/pytesseract.git"
      ]
    },
    {
      "cell_type": "code",
      "execution_count": null,
      "metadata": {
        "id": "Rk3ueQyxSFf4"
      },
      "outputs": [],
      "source": [
        "pip install pyTelegramBotAPI==4.10.0"
      ]
    },
    {
      "cell_type": "code",
      "source": [],
      "metadata": {
        "id": "--o9kIK0Vk5i"
      },
      "execution_count": null,
      "outputs": []
    },
    {
      "cell_type": "markdown",
      "metadata": {
        "id": "cMsM3JRmtYpr"
      },
      "source": [
        "# Import all packages"
      ]
    },
    {
      "cell_type": "code",
      "execution_count": 11,
      "metadata": {
        "id": "xzPjidCotewf"
      },
      "outputs": [],
      "source": [
        "from PIL import Image"
      ]
    },
    {
      "cell_type": "code",
      "execution_count": 12,
      "metadata": {
        "id": "hzJooYoetekw"
      },
      "outputs": [],
      "source": [
        "import numpy as np"
      ]
    },
    {
      "cell_type": "code",
      "execution_count": 13,
      "metadata": {
        "id": "G5iGe0goIS36"
      },
      "outputs": [],
      "source": [
        "from rembg import remove"
      ]
    },
    {
      "cell_type": "code",
      "execution_count": 14,
      "metadata": {
        "id": "xi-tm8GjPNuW"
      },
      "outputs": [],
      "source": [
        "import cv2 as cv"
      ]
    },
    {
      "cell_type": "code",
      "execution_count": 15,
      "metadata": {
        "id": "d5CBffxd6m2S"
      },
      "outputs": [],
      "source": [
        "import pytesseract"
      ]
    },
    {
      "cell_type": "markdown",
      "metadata": {
        "id": "pKf3_y9GtgT0"
      },
      "source": [
        "All Functions\n"
      ]
    },
    {
      "cell_type": "markdown",
      "metadata": {
        "id": "QjvV-a2w7zTn"
      },
      "source": [
        "# To compress the image \n"
      ]
    },
    {
      "cell_type": "code",
      "execution_count": 16,
      "metadata": {
        "id": "jVkN-vN-tk61"
      },
      "outputs": [],
      "source": [
        "#quality must be in between 1 to 100 with integer\n",
        "#imagepath can be relative\n",
        "#for compressing image it must be jpg\n",
        "# id must be string format of integer\n",
        "\n",
        "def compress_img(imagepath,id,format,quality):\n",
        "  from PIL import Image\n",
        "  img=Image.open(imagepath)\n",
        "  try:\n",
        "    img.save(\"CompressImage\"+id+\".\"+format,quality=quality,optimised=True)\n",
        "  except OSError:\n",
        "    img=img.convert(\"RGB\")\n",
        "    img.save(\"CompressImage\"+id+\".\"+format,quality=quality,optimised=True)\n",
        "\n",
        "  return \"CompressImage\"+id+\".\"+format  \n"
      ]
    },
    {
      "cell_type": "markdown",
      "metadata": {
        "id": "blq5ynkT8CEy"
      },
      "source": [
        "# Resizing Image"
      ]
    },
    {
      "cell_type": "code",
      "execution_count": 17,
      "metadata": {
        "id": "6nz0-RuLFYfu"
      },
      "outputs": [],
      "source": [
        "#imagepath can be relative\n",
        "#format it must be jpg\n",
        "#width and heigth must be integer\n",
        "# id must be string format of integer\n",
        "def resize_img(imagepath,width,heigth,id,format):\n",
        "  from PIL import Image\n",
        "  \n",
        "  with Image.open(imagepath) as im:\n",
        "    if(width>=im.width or heigth>=im.height):\n",
        "      return False\n",
        "    img=im.resize((width,heigth))\n",
        "    try:\n",
        "      img.save(\"ResizeImage\"+id+\".\"+format)\n",
        "    except OSError:\n",
        "      img=img.convert(\"RGB\")\n",
        "      img.save(\"ResizeImage\"+id+\".\"+format) \n",
        "  return \"ResizeImage\"+id+\".\"+format    \n",
        "\n"
      ]
    },
    {
      "cell_type": "markdown",
      "metadata": {
        "id": "ij_isOlPDsUo"
      },
      "source": [
        "# Remove Background"
      ]
    },
    {
      "cell_type": "code",
      "execution_count": 2,
      "metadata": {
        "id": "vU98MdWKFYiV"
      },
      "outputs": [],
      "source": [
        "def RemoveBg(imagepath,id,format):\n",
        "  from PIL import Image\n",
        "  from rembg import remove\n",
        "  img=Image.open(imagepath)\n",
        "  output=remove(img)\n",
        "  try:\n",
        "      output.save(\"RemoveBg\"+id+\".\"+format)\n",
        "  except OSError:\n",
        "    output=output.convert(\"RGB\")\n",
        "    output.save(\"RemoveBg\"+id+\".\"+format)\n",
        "  return \"RemoveBg\"+id+\".\"+format\n",
        "\n"
      ]
    },
    {
      "cell_type": "markdown",
      "metadata": {
        "id": "wC0JBYwNQXxZ"
      },
      "source": [
        "# Border"
      ]
    },
    {
      "cell_type": "code",
      "execution_count": null,
      "metadata": {
        "colab": {
          "base_uri": "https://localhost:8080/"
        },
        "id": "ad7MSd4XDqSp",
        "outputId": "3add32c0-5a0b-494b-e159-9e5a4e8638ea"
      },
      "outputs": [
        {
          "data": {
            "text/plain": [
              "True"
            ]
          },
          "execution_count": 30,
          "metadata": {},
          "output_type": "execute_result"
        }
      ],
      "source": [
        "#cv \n",
        "img = cv.imread('/content/zebra.jpg')\n",
        "color = [101, 52, 152] # 'cause purple!\n",
        "# border widths; I set them all to 150\n",
        "top, bottom, left, right = [150]*4\n",
        "img_with_border = cv.copyMakeBorder(img, top, bottom, left, right, cv2.BORDER_CONSTANT, value=color)\n",
        "cv.imwrite(\"starry_night.jpg\", img_with_border)"
      ]
    },
    {
      "cell_type": "markdown",
      "metadata": {
        "id": "vtb9IyLIMD2r"
      },
      "source": [
        "#New section"
      ]
    },
    {
      "cell_type": "code",
      "execution_count": null,
      "metadata": {
        "id": "6sLtVHBJMDqN"
      },
      "outputs": [],
      "source": []
    },
    {
      "cell_type": "code",
      "execution_count": null,
      "metadata": {
        "id": "8c_lkde8UU-G"
      },
      "outputs": [],
      "source": []
    },
    {
      "cell_type": "code",
      "execution_count": null,
      "metadata": {
        "id": "JFmA_kH-UU7i"
      },
      "outputs": [],
      "source": []
    },
    {
      "cell_type": "code",
      "execution_count": null,
      "metadata": {
        "id": "6HGRxRu4UU4W"
      },
      "outputs": [],
      "source": []
    },
    {
      "cell_type": "code",
      "execution_count": null,
      "metadata": {
        "id": "t83ZQOdJUU1S"
      },
      "outputs": [],
      "source": []
    },
    {
      "cell_type": "markdown",
      "metadata": {
        "id": "wYANiHr1RRiq"
      },
      "source": [
        "#Telegram Bot"
      ]
    },
    {
      "cell_type": "code",
      "source": [],
      "metadata": {
        "id": "3_aQmQi0VZ7s"
      },
      "execution_count": null,
      "outputs": []
    },
    {
      "cell_type": "code",
      "source": [],
      "metadata": {
        "id": "Y5t3pgBRVZ2f"
      },
      "execution_count": null,
      "outputs": []
    },
    {
      "cell_type": "code",
      "source": [],
      "metadata": {
        "id": "4sGBYQj9VZz4"
      },
      "execution_count": null,
      "outputs": []
    },
    {
      "cell_type": "code",
      "source": [],
      "metadata": {
        "id": "1wmZxDeuVZvO"
      },
      "execution_count": null,
      "outputs": []
    },
    {
      "cell_type": "markdown",
      "source": [],
      "metadata": {
        "id": "zrP7XKpapW2f"
      }
    },
    {
      "cell_type": "markdown",
      "source": [
        "#Main Bot"
      ],
      "metadata": {
        "id": "-w3vFHgqrRX4"
      }
    },
    {
      "cell_type": "code",
      "execution_count": 6,
      "metadata": {
        "id": "tk8rcrbHDqNG"
      },
      "outputs": [],
      "source": [
        "import telebot\n",
        "api=\"5985194933:AAFKZBsFqpGdF8PvHXHcEXuKN_9abPth7q0\"\n",
        "bot = telebot.TeleBot(api)\n",
        "\n",
        "from telebot.types import ReplyKeyboardMarkup, KeyboardButton\n",
        "@bot.message_handler(commands=['start'])\n",
        "def First_time(message):\n",
        "  chat_id=message.chat.id\n",
        "  bot.send_message(chat_id,\"Welcome to Image Manipulation Bot\")\n",
        "  bot.send_message(chat_id,\"How to use this bot \\nSend Photo\\nChoose option\")\n",
        "\n",
        "@bot.message_handler(content_types=['photo'])\n",
        "def handle_photo(message):\n",
        "    # Get the file_id of the photo\n",
        "    chat_id=message.chat.id\n",
        "    file_id = message.photo[-1].file_id\n",
        "    # Download the photo using the file_id\n",
        "    file_info = bot.get_file(file_id)\n",
        "    downloaded_file = bot.download_file(file_info.file_path)\n",
        "    # Save the photo to disk\n",
        "    with open('ImgRec'+str(chat_id)+'.png', 'wb') as new_file:\n",
        "        new_file.write(downloaded_file)\n",
        "\n",
        "    # Reply to the user\n",
        "    bot.reply_to(message, 'Photo received!')\n",
        "    print(chat_id)\n",
        "    markup = ReplyKeyboardMarkup(resize_keyboard=True,one_time_keyboard=True)\n",
        "    markup.add(KeyboardButton(\"Compress Image\"))\n",
        "    markup.add(KeyboardButton(\"Resize Image\"))\n",
        "    markup.add(KeyboardButton(\"Remove Background\"))\n",
        "    markup.add(KeyboardButton(\"Add Border\"))\n",
        "    bot.send_message(chat_id,\"Choose the Option\",reply_markup=markup)\n",
        "\n",
        "@bot.message_handler(func= lambda m: True)\n",
        "def message_handler(message):\n",
        "  chat_id=message.chat.id\n",
        "  if(message.text==\"Compress Image\"):\n",
        "    bot.reply_to(message,\"Send the quality of picture(Integer(1-100)) \\n 'Quality 20'\")\n",
        "  elif(\"Quality\" in message.text):\n",
        "    quality=int(message.text.split()[-1])\n",
        "    if(quality<1 or quality>99):\n",
        "      bot.reply_to(message,\"Send the quality of picture in range of 1 - 100 \\n 'Quality=20'\")\n",
        "      return\n",
        "    compress_file=open(compress_img('ImgRec'+str(chat_id)+'.png',str(chat_id),\"jpg\",quality),'rb')\n",
        "    bot.send_photo(chat_id,compress_file)\n",
        "  elif(message.text==\"Resize Image\"):\n",
        "    bot.reply_to(message,\"Send the New size of picture(width,heigth) \\n 'Size 100 300'\")\n",
        "  elif (\"Size\"in message.text):\n",
        "    width,heigth=int(message.text.split()[-1]) , int(message.text.split()[-2])\n",
        "    k=resize_img('ImgRec'+str(chat_id)+'.png',width,heigth,str(chat_id),\"jpg\")\n",
        "    if k:\n",
        "      resize_file=open(k,\"rb\")\n",
        "      bot.send_photo(chat_id,resize_file)\n",
        "    return\n",
        "  elif (message.text==\"Remove Background\"):\n",
        "    store=bot.send_message(chat_id,\"Removing Background\\nPlease wait..\")\n",
        "    RemBG_file=open(RemoveBg('ImgRec'+str(chat_id)+'.png',str(chat_id),\"jpg\"),\"rb\")\n",
        "    bot.delete_message(chat_id,store.message_id)\n",
        "    bot.send_photo(chat_id,RemBG_file)\n",
        "\n",
        "bot.polling()    \n"
      ]
    },
    {
      "cell_type": "markdown",
      "source": [
        "#Try"
      ],
      "metadata": {
        "id": "C9dxkRz5VShD"
      }
    },
    {
      "cell_type": "code",
      "execution_count": null,
      "metadata": {
        "id": "RpcV6j4L7ZGu"
      },
      "outputs": [],
      "source": [
        "import telebot\n",
        "api=\"5985194933:AAFKZBsFqpGdF8PvHXHcEXuKN_9abPth7q0\"\n",
        "bot = telebot.TeleBot(api)\n",
        "\n",
        "from telebot.types import ReplyKeyboardMarkup, KeyboardButton\n",
        "@bot.message_handler(commands=['help', 'start'])\n",
        "def send_welcome(message):\n",
        "    bot.reply_to(message,\"Hii\")\n",
        "    compress_file=open(\"ImgRec5478442720.png\",\"rb\")\n",
        "    bot.send_photo(message.chat.id,compress_file)\n",
        "bot.polling()"
      ]
    },
    {
      "cell_type": "markdown",
      "metadata": {
        "id": "L2w-kIxRUQV9"
      },
      "source": [
        "#New Section"
      ]
    },
    {
      "cell_type": "code",
      "source": [],
      "metadata": {
        "id": "8rih20ZtVPiV"
      },
      "execution_count": null,
      "outputs": []
    },
    {
      "cell_type": "code",
      "source": [],
      "metadata": {
        "id": "2qeT70RNVPcO"
      },
      "execution_count": null,
      "outputs": []
    },
    {
      "cell_type": "code",
      "source": [],
      "metadata": {
        "id": "2N0Q9h2CVPZS"
      },
      "execution_count": null,
      "outputs": []
    },
    {
      "cell_type": "code",
      "source": [],
      "metadata": {
        "id": "XpWMQ4qRVPVn"
      },
      "execution_count": null,
      "outputs": []
    },
    {
      "cell_type": "markdown",
      "metadata": {
        "id": "gulX8BWd7bqw"
      },
      "source": [
        "#Image to Text"
      ]
    },
    {
      "cell_type": "code",
      "execution_count": null,
      "metadata": {
        "id": "LboqfZdy8F-n"
      },
      "outputs": [],
      "source": [
        "img = Image.open('The-human-brain-can-process-entire-images-that-the-eye-sees-for-as-little-as-13-milliseconds..png')\n",
        "img=img.convert(\"RGB\")"
      ]
    },
    {
      "cell_type": "code",
      "execution_count": null,
      "metadata": {
        "id": "cz3RuGR5-IfN"
      },
      "outputs": [],
      "source": [
        "pytesseract.pytesseract.tesseract_cmd = r'/usr/bin/tesseract'"
      ]
    },
    {
      "cell_type": "code",
      "execution_count": null,
      "metadata": {
        "id": "nF_ea8dqKXjk"
      },
      "outputs": [],
      "source": [
        "!tesseract -v"
      ]
    },
    {
      "cell_type": "code",
      "execution_count": null,
      "metadata": {
        "colab": {
          "base_uri": "https://localhost:8080/"
        },
        "id": "BvlD7sg8FYnu",
        "outputId": "5a0a7273-93ce-4211-8f87-65cf552a0f78"
      },
      "outputs": [
        {
          "name": "stdout",
          "output_type": "stream",
          "text": [
            "   \n",
            "\n",
            "The human brain\n",
            "\n",
            "can process entire + 9 O\n",
            "images that the 2 ae : Ly\n",
            "sees for as little as\n",
            "\n",
            "cq a ao\n",
            "ee es\n",
            "\n",
            "Source: Trafton, Anne. “In the Blink of an Eye.” MIT News, 16 Jan. 2014, news.mit.edu/2014/in-the-blink-of-an-eye-0116.\n",
            "\n",
            " \n",
            "\f\n"
          ]
        }
      ],
      "source": [
        "print(pytesseract.image_to_string(img))"
      ]
    },
    {
      "cell_type": "markdown",
      "metadata": {
        "id": "dBd2i19URmDt"
      },
      "source": [
        "#New section"
      ]
    },
    {
      "cell_type": "code",
      "execution_count": null,
      "metadata": {
        "id": "ylTTlwTZDpuM"
      },
      "outputs": [],
      "source": []
    }
  ],
  "metadata": {
    "accelerator": "GPU",
    "colab": {
      "collapsed_sections": [
        "QjvV-a2w7zTn",
        "blq5ynkT8CEy",
        "ij_isOlPDsUo",
        "wC0JBYwNQXxZ",
        "vtb9IyLIMD2r",
        "wYANiHr1RRiq",
        "L2w-kIxRUQV9"
      ],
      "provenance": [],
      "authorship_tag": "ABX9TyPEEIax7CubxnTF5DIAlzCs",
      "include_colab_link": true
    },
    "gpuClass": "standard",
    "kernelspec": {
      "display_name": "Python 3",
      "name": "python3"
    },
    "language_info": {
      "name": "python"
    }
  },
  "nbformat": 4,
  "nbformat_minor": 0
}